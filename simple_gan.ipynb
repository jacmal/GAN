{
  "nbformat": 4,
  "nbformat_minor": 0,
  "metadata": {
    "colab": {
      "name": "simple_gan.ipynb",
      "provenance": [],
      "collapsed_sections": [],
      "authorship_tag": "ABX9TyO2baQ78RrAAa0Vg/sP74gk",
      "include_colab_link": true
    },
    "kernelspec": {
      "name": "python3",
      "display_name": "Python 3"
    }
  },
  "cells": [
    {
      "cell_type": "markdown",
      "metadata": {
        "id": "view-in-github",
        "colab_type": "text"
      },
      "source": [
        "<a href=\"https://colab.research.google.com/github/jacmal/GAN/blob/main/simple_gan.ipynb\" target=\"_parent\"><img src=\"https://colab.research.google.com/assets/colab-badge.svg\" alt=\"Open In Colab\"/></a>"
      ]
    },
    {
      "cell_type": "code",
      "metadata": {
        "colab": {
          "base_uri": "https://localhost:8080/"
        },
        "id": "FXzEvgeoo4zb",
        "outputId": "38bde803-db4a-4850-ebe5-beb0a48e6bfc"
      },
      "source": [
        "pip install imageio"
      ],
      "execution_count": null,
      "outputs": [
        {
          "output_type": "stream",
          "text": [
            "Requirement already satisfied: imageio in /usr/local/lib/python3.6/dist-packages (2.4.1)\n",
            "Requirement already satisfied: numpy in /usr/local/lib/python3.6/dist-packages (from imageio) (1.19.5)\n",
            "Requirement already satisfied: pillow in /usr/local/lib/python3.6/dist-packages (from imageio) (7.0.0)\n"
          ],
          "name": "stdout"
        }
      ]
    },
    {
      "cell_type": "code",
      "metadata": {
        "colab": {
          "base_uri": "https://localhost:8080/"
        },
        "id": "FX-8XBzu7goY",
        "outputId": "aa562231-5413-4bbe-c21b-ad59934a70c7"
      },
      "source": [
        "# To generate GIFs\r\n",
        "pip install -q git+https://github.com/tensorflow/docs"
      ],
      "execution_count": null,
      "outputs": [
        {
          "output_type": "stream",
          "text": [
            "\u001b[?25l\r\u001b[K     |▎                               | 10kB 18.5MB/s eta 0:00:01\r\u001b[K     |▋                               | 20kB 24.0MB/s eta 0:00:01\r\u001b[K     |█                               | 30kB 11.3MB/s eta 0:00:01\r\u001b[K     |█▎                              | 40kB 10.2MB/s eta 0:00:01\r\u001b[K     |█▋                              | 51kB 9.4MB/s eta 0:00:01\r\u001b[K     |██                              | 61kB 8.4MB/s eta 0:00:01\r\u001b[K     |██▎                             | 71kB 8.3MB/s eta 0:00:01\r\u001b[K     |██▋                             | 81kB 9.1MB/s eta 0:00:01\r\u001b[K     |██▉                             | 92kB 8.7MB/s eta 0:00:01\r\u001b[K     |███▏                            | 102kB 8.2MB/s eta 0:00:01\r\u001b[K     |███▌                            | 112kB 8.2MB/s eta 0:00:01\r\u001b[K     |███▉                            | 122kB 8.2MB/s eta 0:00:01\r\u001b[K     |████▏                           | 133kB 8.2MB/s eta 0:00:01\r\u001b[K     |████▌                           | 143kB 8.2MB/s eta 0:00:01\r\u001b[K     |████▉                           | 153kB 8.2MB/s eta 0:00:01\r\u001b[K     |█████▏                          | 163kB 8.2MB/s eta 0:00:01\r\u001b[K     |█████▌                          | 174kB 8.2MB/s eta 0:00:01\r\u001b[K     |█████▊                          | 184kB 8.2MB/s eta 0:00:01\r\u001b[K     |██████                          | 194kB 8.2MB/s eta 0:00:01\r\u001b[K     |██████▍                         | 204kB 8.2MB/s eta 0:00:01\r\u001b[K     |██████▊                         | 215kB 8.2MB/s eta 0:00:01\r\u001b[K     |███████                         | 225kB 8.2MB/s eta 0:00:01\r\u001b[K     |███████▍                        | 235kB 8.2MB/s eta 0:00:01\r\u001b[K     |███████▊                        | 245kB 8.2MB/s eta 0:00:01\r\u001b[K     |████████                        | 256kB 8.2MB/s eta 0:00:01\r\u001b[K     |████████▍                       | 266kB 8.2MB/s eta 0:00:01\r\u001b[K     |████████▋                       | 276kB 8.2MB/s eta 0:00:01\r\u001b[K     |█████████                       | 286kB 8.2MB/s eta 0:00:01\r\u001b[K     |█████████▎                      | 296kB 8.2MB/s eta 0:00:01\r\u001b[K     |█████████▋                      | 307kB 8.2MB/s eta 0:00:01\r\u001b[K     |██████████                      | 317kB 8.2MB/s eta 0:00:01\r\u001b[K     |██████████▎                     | 327kB 8.2MB/s eta 0:00:01\r\u001b[K     |██████████▋                     | 337kB 8.2MB/s eta 0:00:01\r\u001b[K     |███████████                     | 348kB 8.2MB/s eta 0:00:01\r\u001b[K     |███████████▎                    | 358kB 8.2MB/s eta 0:00:01\r\u001b[K     |███████████▌                    | 368kB 8.2MB/s eta 0:00:01\r\u001b[K     |███████████▉                    | 378kB 8.2MB/s eta 0:00:01\r\u001b[K     |████████████▏                   | 389kB 8.2MB/s eta 0:00:01\r\u001b[K     |████████████▌                   | 399kB 8.2MB/s eta 0:00:01\r\u001b[K     |████████████▉                   | 409kB 8.2MB/s eta 0:00:01\r\u001b[K     |█████████████▏                  | 419kB 8.2MB/s eta 0:00:01\r\u001b[K     |█████████████▌                  | 430kB 8.2MB/s eta 0:00:01\r\u001b[K     |█████████████▉                  | 440kB 8.2MB/s eta 0:00:01\r\u001b[K     |██████████████▏                 | 450kB 8.2MB/s eta 0:00:01\r\u001b[K     |██████████████▍                 | 460kB 8.2MB/s eta 0:00:01\r\u001b[K     |██████████████▊                 | 471kB 8.2MB/s eta 0:00:01\r\u001b[K     |███████████████                 | 481kB 8.2MB/s eta 0:00:01\r\u001b[K     |███████████████▍                | 491kB 8.2MB/s eta 0:00:01\r\u001b[K     |███████████████▊                | 501kB 8.2MB/s eta 0:00:01\r\u001b[K     |████████████████                | 512kB 8.2MB/s eta 0:00:01\r\u001b[K     |████████████████▍               | 522kB 8.2MB/s eta 0:00:01\r\u001b[K     |████████████████▊               | 532kB 8.2MB/s eta 0:00:01\r\u001b[K     |█████████████████               | 542kB 8.2MB/s eta 0:00:01\r\u001b[K     |█████████████████▎              | 552kB 8.2MB/s eta 0:00:01\r\u001b[K     |█████████████████▋              | 563kB 8.2MB/s eta 0:00:01\r\u001b[K     |██████████████████              | 573kB 8.2MB/s eta 0:00:01\r\u001b[K     |██████████████████▎             | 583kB 8.2MB/s eta 0:00:01\r\u001b[K     |██████████████████▋             | 593kB 8.2MB/s eta 0:00:01\r\u001b[K     |███████████████████             | 604kB 8.2MB/s eta 0:00:01\r\u001b[K     |███████████████████▎            | 614kB 8.2MB/s eta 0:00:01\r\u001b[K     |███████████████████▋            | 624kB 8.2MB/s eta 0:00:01\r\u001b[K     |████████████████████            | 634kB 8.2MB/s eta 0:00:01\r\u001b[K     |████████████████████▏           | 645kB 8.2MB/s eta 0:00:01\r\u001b[K     |████████████████████▌           | 655kB 8.2MB/s eta 0:00:01\r\u001b[K     |████████████████████▉           | 665kB 8.2MB/s eta 0:00:01\r\u001b[K     |█████████████████████▏          | 675kB 8.2MB/s eta 0:00:01\r\u001b[K     |█████████████████████▌          | 686kB 8.2MB/s eta 0:00:01\r\u001b[K     |█████████████████████▉          | 696kB 8.2MB/s eta 0:00:01\r\u001b[K     |██████████████████████▏         | 706kB 8.2MB/s eta 0:00:01\r\u001b[K     |██████████████████████▌         | 716kB 8.2MB/s eta 0:00:01\r\u001b[K     |██████████████████████▉         | 727kB 8.2MB/s eta 0:00:01\r\u001b[K     |███████████████████████         | 737kB 8.2MB/s eta 0:00:01\r\u001b[K     |███████████████████████▍        | 747kB 8.2MB/s eta 0:00:01\r\u001b[K     |███████████████████████▊        | 757kB 8.2MB/s eta 0:00:01\r\u001b[K     |████████████████████████        | 768kB 8.2MB/s eta 0:00:01\r\u001b[K     |████████████████████████▍       | 778kB 8.2MB/s eta 0:00:01\r\u001b[K     |████████████████████████▊       | 788kB 8.2MB/s eta 0:00:01\r\u001b[K     |█████████████████████████       | 798kB 8.2MB/s eta 0:00:01\r\u001b[K     |█████████████████████████▍      | 808kB 8.2MB/s eta 0:00:01\r\u001b[K     |█████████████████████████▊      | 819kB 8.2MB/s eta 0:00:01\r\u001b[K     |██████████████████████████      | 829kB 8.2MB/s eta 0:00:01\r\u001b[K     |██████████████████████████▎     | 839kB 8.2MB/s eta 0:00:01\r\u001b[K     |██████████████████████████▋     | 849kB 8.2MB/s eta 0:00:01\r\u001b[K     |███████████████████████████     | 860kB 8.2MB/s eta 0:00:01\r\u001b[K     |███████████████████████████▎    | 870kB 8.2MB/s eta 0:00:01\r\u001b[K     |███████████████████████████▋    | 880kB 8.2MB/s eta 0:00:01\r\u001b[K     |████████████████████████████    | 890kB 8.2MB/s eta 0:00:01\r\u001b[K     |████████████████████████████▎   | 901kB 8.2MB/s eta 0:00:01\r\u001b[K     |████████████████████████████▋   | 911kB 8.2MB/s eta 0:00:01\r\u001b[K     |████████████████████████████▉   | 921kB 8.2MB/s eta 0:00:01\r\u001b[K     |█████████████████████████████▏  | 931kB 8.2MB/s eta 0:00:01\r\u001b[K     |█████████████████████████████▌  | 942kB 8.2MB/s eta 0:00:01\r\u001b[K     |█████████████████████████████▉  | 952kB 8.2MB/s eta 0:00:01\r\u001b[K     |██████████████████████████████▏ | 962kB 8.2MB/s eta 0:00:01\r\u001b[K     |██████████████████████████████▌ | 972kB 8.2MB/s eta 0:00:01\r\u001b[K     |██████████████████████████████▉ | 983kB 8.2MB/s eta 0:00:01\r\u001b[K     |███████████████████████████████▏| 993kB 8.2MB/s eta 0:00:01\r\u001b[K     |███████████████████████████████▌| 1.0MB 8.2MB/s eta 0:00:01\r\u001b[K     |███████████████████████████████▊| 1.0MB 8.2MB/s eta 0:00:01\r\u001b[K     |████████████████████████████████| 1.0MB 8.2MB/s \n",
            "\u001b[?25h  Building wheel for tensorflow-docs (setup.py) ... \u001b[?25l\u001b[?25hdone\n"
          ],
          "name": "stdout"
        }
      ]
    },
    {
      "cell_type": "code",
      "metadata": {
        "colab": {
          "base_uri": "https://localhost:8080/"
        },
        "id": "4QF7hBuWsyOA",
        "outputId": "860658c2-e810-4a87-c27a-49a326226540"
      },
      "source": [
        "from google.colab import drive\r\n",
        "drive.mount('/content/drive')"
      ],
      "execution_count": null,
      "outputs": [
        {
          "output_type": "stream",
          "text": [
            "Mounted at /content/drive\n"
          ],
          "name": "stdout"
        }
      ]
    },
    {
      "cell_type": "code",
      "metadata": {
        "id": "UJFnQgEronFS"
      },
      "source": [
        "import tensorflow as tf\r\n",
        "import glob\r\n",
        "import imageio\r\n",
        "import matplotlib.pyplot as plt\r\n",
        "import numpy as np\r\n",
        "import os\r\n",
        "import PIL\r\n",
        "from tensorflow.keras import layers\r\n",
        "import time\r\n",
        "\r\n",
        "from IPython import display"
      ],
      "execution_count": null,
      "outputs": []
    },
    {
      "cell_type": "code",
      "metadata": {
        "id": "BNjuyDRCpH4Y",
        "colab": {
          "base_uri": "https://localhost:8080/"
        },
        "outputId": "f5bd2eb7-194a-4366-9107-988804512402"
      },
      "source": [
        "(train_images, train_labels), (_, _) = tf.keras.datasets.mnist.load_data()"
      ],
      "execution_count": null,
      "outputs": [
        {
          "output_type": "stream",
          "text": [
            "Downloading data from https://storage.googleapis.com/tensorflow/tf-keras-datasets/mnist.npz\n",
            "11493376/11490434 [==============================] - 0s 0us/step\n"
          ],
          "name": "stdout"
        }
      ]
    },
    {
      "cell_type": "code",
      "metadata": {
        "id": "PKRJoLIxhe01"
      },
      "source": [
        "image_shape_1 = train_images[0].shape[0]\r\n",
        "image_shape_2 = train_images[0].shape[1]\r\n",
        "\r\n",
        "pixel_normalize_value = 127.5"
      ],
      "execution_count": null,
      "outputs": []
    },
    {
      "cell_type": "code",
      "metadata": {
        "id": "rVie4SF7pYtn"
      },
      "source": [
        "train_images = train_images.reshape(train_images.shape[0], image_shape_1, image_shape_2, 1).astype('float32')\r\n",
        "train_images = (train_images - pixel_normalize_value) / pixel_normalize_value # Normalize the images to [-1, 1]"
      ],
      "execution_count": null,
      "outputs": []
    },
    {
      "cell_type": "code",
      "metadata": {
        "id": "V-UGCAl_pdcB"
      },
      "source": [
        "BUFFER_SIZE = 60000\r\n",
        "BATCH_SIZE = 256"
      ],
      "execution_count": null,
      "outputs": []
    },
    {
      "cell_type": "code",
      "metadata": {
        "id": "5Pne3WRTpgcn"
      },
      "source": [
        "# Batch and shuffle the data\r\n",
        "train_dataset = tf.data.Dataset.from_tensor_slices(train_images).shuffle(BUFFER_SIZE).batch(BATCH_SIZE)"
      ],
      "execution_count": null,
      "outputs": []
    },
    {
      "cell_type": "code",
      "metadata": {
        "id": "CZCMxPpmoUYI"
      },
      "source": [
        "ois = 28 #output image shape\r\n",
        "kernel_size = (5,5)"
      ],
      "execution_count": null,
      "outputs": []
    },
    {
      "cell_type": "markdown",
      "metadata": {
        "id": "rF6Ru0iJsOVl"
      },
      "source": [
        "Generator wykorzystuje tf.keras.layers.Conv2DTranspose (upsampling) do tworzenia obrazu z ziarna (szum losowy). Zacznij od Dense warstwy, która przyjmuje to ziarno jako dane wejściowe, a następnie kilkakrotnie zwiększaj próbkowanie, aż osiągniesz żądany rozmiar obrazu 28x28x1. Zwróć uwagę na aktywację tf.keras.layers.LeakyReLU dla każdej warstwy, z wyjątkiem warstwy wyjściowej, która używa tanh."
      ]
    },
    {
      "cell_type": "code",
      "metadata": {
        "id": "YVMYFUMypjmO"
      },
      "source": [
        "def make_generator_model(outImgShape=ois, batch_s=BATCH_SIZE, kernel_s=kernel_size):\r\n",
        "    numb_of_units = (outImgShape/4)*(outImgShape/4)*batch_s\r\n",
        "    model = tf.keras.Sequential()\r\n",
        "    \r\n",
        "    model.add(layers.Dense(units = numb_of_units, \r\n",
        "                           use_bias = False, \r\n",
        "                           input_shape = (100,)))\r\n",
        "    \r\n",
        "    model.add(layers.BatchNormalization())\r\n",
        "    model.add(layers.LeakyReLU())\r\n",
        "\r\n",
        "    model.add(layers.Reshape((int(outImgShape/4), \r\n",
        "                              int(outImgShape/4), \r\n",
        "                              batch_s)))\r\n",
        "    \r\n",
        "    assert model.output_shape == (None, int(outImgShape/4), int(outImgShape/4), batch_s) # Note: None is the batch size\r\n",
        "\r\n",
        "    model.add(layers.Conv2DTranspose(filters=128, \r\n",
        "                                     kernel_size = kernel_s, \r\n",
        "                                     strides=(1,1), \r\n",
        "                                     padding='same', \r\n",
        "                                     use_bias=False))\r\n",
        "    \r\n",
        "    assert model.output_shape == (None, int(outImgShape/4), int(outImgShape/4), 128)\r\n",
        "    \r\n",
        "    model.add(layers.BatchNormalization())\r\n",
        "    model.add(layers.LeakyReLU())\r\n",
        "\r\n",
        "    model.add(layers.Conv2DTranspose(filters=64, \r\n",
        "                                     kernel_size = kernel_s, \r\n",
        "                                     strides=(2,2), \r\n",
        "                                     padding='same', \r\n",
        "                                     use_bias=False))\r\n",
        "    \r\n",
        "    assert model.output_shape == (None, int(outImgShape/2), int(outImgShape/2), 64)\r\n",
        "    \r\n",
        "    model.add(layers.BatchNormalization())\r\n",
        "    model.add(layers.LeakyReLU())\r\n",
        "\r\n",
        "    model.add(layers.Conv2DTranspose(filters=1, \r\n",
        "                                     kernel_size = kernel_s, \r\n",
        "                                     strides=(2,2), \r\n",
        "                                     padding='same', \r\n",
        "                                     use_bias=False, \r\n",
        "                                     activation='tanh'))\r\n",
        "    \r\n",
        "    assert model.output_shape == (None, outImgShape, outImgShape, 1)\r\n",
        "\r\n",
        "    return model"
      ],
      "execution_count": null,
      "outputs": []
    },
    {
      "cell_type": "code",
      "metadata": {
        "colab": {
          "base_uri": "https://localhost:8080/",
          "height": 284
        },
        "id": "JsUBl_T7pqc4",
        "outputId": "ddbdad97-9d27-4694-ef6c-16db2615370e"
      },
      "source": [
        "generator = make_generator_model()\r\n",
        "\r\n",
        "noise = tf.random.normal([1, 100])\r\n",
        "generated_image = generator(noise, training=False)\r\n",
        "\r\n",
        "plt.imshow(generated_image[0, :, :, 0], cmap='gray');"
      ],
      "execution_count": null,
      "outputs": [
        {
          "output_type": "execute_result",
          "data": {
            "text/plain": [
              "<matplotlib.image.AxesImage at 0x7fd485b29320>"
            ]
          },
          "metadata": {
            "tags": []
          },
          "execution_count": 23
        },
        {
          "output_type": "display_data",
          "data": {
            "image/png": "[encoded data removed]",
            "text/plain": [
              "<Figure size 432x288 with 1 Axes>"
            ]
          },
          "metadata": {
            "tags": [],
            "needs_background": "light"
          }
        }
      ]
    },
    {
      "cell_type": "code",
      "metadata": {
        "id": "Rhg6utSepwvG"
      },
      "source": [
        "def make_discriminator_model():\r\n",
        "    model = tf.keras.Sequential()\r\n",
        "    model.add(layers.Conv2D(64, (5, 5), strides=(2, 2), padding='same',\r\n",
        "                                     input_shape=[28, 28, 1]))\r\n",
        "    model.add(layers.LeakyReLU())\r\n",
        "    model.add(layers.Dropout(0.3))\r\n",
        "\r\n",
        "    model.add(layers.Conv2D(128, (5, 5), strides=(2, 2), padding='same'))\r\n",
        "    model.add(layers.LeakyReLU())\r\n",
        "    model.add(layers.Dropout(0.3))\r\n",
        "\r\n",
        "    model.add(layers.Flatten())\r\n",
        "    model.add(layers.Dense(1))\r\n",
        "\r\n",
        "    return model"
      ],
      "execution_count": null,
      "outputs": []
    },
    {
      "cell_type": "markdown",
      "metadata": {
        "id": "SCOVLbtCzE4s"
      },
      "source": [
        "Użyj (jeszcze niewyszkolonego) dyskryminatora, aby sklasyfikować wygenerowane obrazy jako prawdziwe lub fałszywe. Model zostanie przeszkolony, aby przedstawiał dodatnie wartości dla obrazów rzeczywistych i ujemne dla fałszywych obrazów."
      ]
    },
    {
      "cell_type": "code",
      "metadata": {
        "colab": {
          "base_uri": "https://localhost:8080/"
        },
        "id": "2fKuwbTCp4vf",
        "outputId": "57075131-bdb9-491b-d58b-123e53c050d6"
      },
      "source": [
        "discriminator = make_discriminator_model()\r\n",
        "decision = discriminator(generated_image)\r\n",
        "print(decision)"
      ],
      "execution_count": null,
      "outputs": [
        {
          "output_type": "stream",
          "text": [
            "tf.Tensor([[-0.00027545]], shape=(1, 1), dtype=float32)\n"
          ],
          "name": "stdout"
        }
      ]
    },
    {
      "cell_type": "code",
      "metadata": {
        "id": "wR3YVihHqBdH"
      },
      "source": [
        "# This method returns a helper function to compute cross entropy loss\r\n",
        "cross_entropy = tf.keras.losses.BinaryCrossentropy(from_logits=True)"
      ],
      "execution_count": null,
      "outputs": []
    },
    {
      "cell_type": "markdown",
      "metadata": {
        "id": "tvRJbRquzLXk"
      },
      "source": [
        "Utrata dyskryminatora\r\n",
        "\r\n",
        "Ta metoda określa ilościowo, jak dobrze dyskryminator jest w stanie odróżnić prawdziwe obrazy od podróbek. Porównuje przewidywania dyskryminatora dotyczące rzeczywistych obrazów z tablicą jedynek, a przewidywania dyskryminatora dotyczące fałszywych (generowanych) obrazów z tablicą zer."
      ]
    },
    {
      "cell_type": "code",
      "metadata": {
        "id": "eGQzFvHMqEyG"
      },
      "source": [
        "def discriminator_loss(real_output, fake_output):\r\n",
        "    real_loss = cross_entropy(tf.ones_like(real_output), real_output)\r\n",
        "    fake_loss = cross_entropy(tf.zeros_like(fake_output), fake_output)\r\n",
        "    total_loss = real_loss + fake_loss\r\n",
        "    return total_loss"
      ],
      "execution_count": null,
      "outputs": []
    },
    {
      "cell_type": "code",
      "metadata": {
        "id": "bR8A68dcqILu"
      },
      "source": [
        "def generator_loss(fake_output):\r\n",
        "    return cross_entropy(tf.ones_like(fake_output), fake_output)"
      ],
      "execution_count": null,
      "outputs": []
    },
    {
      "cell_type": "code",
      "metadata": {
        "id": "VDADiYoyqqnf"
      },
      "source": [
        "generator_optimizer = tf.keras.optimizers.Adam(1e-4)\r\n",
        "discriminator_optimizer = tf.keras.optimizers.Adam(1e-4)"
      ],
      "execution_count": null,
      "outputs": []
    },
    {
      "cell_type": "code",
      "metadata": {
        "id": "I5ismfSUqNue"
      },
      "source": [
        "checkpoint_dir = './training_checkpoints'\r\n",
        "checkpoint_prefix = os.path.join(checkpoint_dir, \"ckpt\")\r\n",
        "checkpoint = tf.train.Checkpoint(generator_optimizer=generator_optimizer,\r\n",
        "                                 discriminator_optimizer=discriminator_optimizer,\r\n",
        "                                 generator=generator,\r\n",
        "                                 discriminator=discriminator)"
      ],
      "execution_count": null,
      "outputs": []
    },
    {
      "cell_type": "code",
      "metadata": {
        "id": "93ojFphtqs8_"
      },
      "source": [
        "EPOCHS = 50\r\n",
        "noise_dim = 100\r\n",
        "num_examples_to_generate = 16\r\n",
        "\r\n",
        "# We will reuse this seed overtime (so it's easier)\r\n",
        "# to visualize progress in the animated GIF)\r\n",
        "seed = tf.random.normal([num_examples_to_generate, noise_dim])"
      ],
      "execution_count": null,
      "outputs": []
    },
    {
      "cell_type": "code",
      "metadata": {
        "id": "ODeUOX9aqwt2"
      },
      "source": [
        "# Notice the use of `tf.function`\r\n",
        "# This annotation causes the function to be \"compiled\".\r\n",
        "@tf.function\r\n",
        "def train_step(images):\r\n",
        "    noise = tf.random.normal([BATCH_SIZE, noise_dim])\r\n",
        "\r\n",
        "    with tf.GradientTape() as gen_tape, tf.GradientTape() as disc_tape:\r\n",
        "      generated_images = generator(noise, training=True)\r\n",
        "\r\n",
        "      real_output = discriminator(images, training=True)\r\n",
        "      fake_output = discriminator(generated_images, training=True)\r\n",
        "\r\n",
        "      gen_loss = generator_loss(fake_output)\r\n",
        "      disc_loss = discriminator_loss(real_output, fake_output)\r\n",
        "\r\n",
        "    gradients_of_generator = gen_tape.gradient(gen_loss, generator.trainable_variables)\r\n",
        "    gradients_of_discriminator = disc_tape.gradient(disc_loss, discriminator.trainable_variables)\r\n",
        "\r\n",
        "    generator_optimizer.apply_gradients(zip(gradients_of_generator, generator.trainable_variables))\r\n",
        "    discriminator_optimizer.apply_gradients(zip(gradients_of_discriminator, discriminator.trainable_variables))"
      ],
      "execution_count": null,
      "outputs": []
    },
    {
      "cell_type": "code",
      "metadata": {
        "id": "qEzyHsasq152"
      },
      "source": [
        "def train(dataset, epochs):\r\n",
        "  for epoch in range(epochs):\r\n",
        "    start = time.time()\r\n",
        "\r\n",
        "    for image_batch in dataset:\r\n",
        "      train_step(image_batch)\r\n",
        "\r\n",
        "    # Produce images for the GIF as we go\r\n",
        "    display.clear_output(wait=True)\r\n",
        "    generate_and_save_images(generator,\r\n",
        "                             epoch + 1,\r\n",
        "                             seed)\r\n",
        "\r\n",
        "    # Save the model every 15 epochs\r\n",
        "    if (epoch + 1) % 15 == 0:\r\n",
        "      checkpoint.save(file_prefix = checkpoint_prefix)\r\n",
        "\r\n",
        "    print('Time for epoch {} is {} sec'.format(epoch + 1, time.time()-start))\r\n",
        "\r\n",
        "  # Generate after the final epoch\r\n",
        "  display.clear_output(wait=True)\r\n",
        "  generate_and_save_images(generator,\r\n",
        "                           epochs,\r\n",
        "                           seed)"
      ],
      "execution_count": null,
      "outputs": []
    },
    {
      "cell_type": "code",
      "metadata": {
        "id": "mvgqi9iYq7yn"
      },
      "source": [
        "def generate_and_save_images(model, epoch, test_input):\r\n",
        "  # Notice `training` is set to False.\r\n",
        "  # This is so all layers run in inference mode (batchnorm).\r\n",
        "  predictions = model(test_input, training=False)\r\n",
        "\r\n",
        "  fig = plt.figure(figsize=(4,4))\r\n",
        "\r\n",
        "  for i in range(predictions.shape[0]):\r\n",
        "      plt.subplot(4, 4, i+1)\r\n",
        "      plt.imshow(predictions[i, :, :, 0] * 127.5 + 127.5, cmap='gray')\r\n",
        "      plt.axis('off')\r\n",
        "\r\n",
        "  plt.savefig('image_at_epoch_{:04d}.png'.format(epoch))\r\n",
        "  plt.show()"
      ],
      "execution_count": null,
      "outputs": []
    },
    {
      "cell_type": "code",
      "metadata": {
        "colab": {
          "base_uri": "https://localhost:8080/",
          "height": 267
        },
        "id": "EQ7d-cvIrFzF",
        "outputId": "6af534e1-cc3c-426e-f0af-191686a98af8"
      },
      "source": [
        "train(train_dataset, EPOCHS)"
      ],
      "execution_count": null,
      "outputs": [
        {
          "output_type": "display_data",
          "data": {
            "image/png": "[encoded data removed]",
            "text/plain": [
              "<Figure size 288x288 with 16 Axes>"
            ]
          },
          "metadata": {
            "tags": [],
            "needs_background": "light"
          }
        },
        {
          "output_type": "stream",
          "text": [
            "Time for epoch 32 is 715.3127307891846 sec\n"
          ],
          "name": "stdout"
        }
      ]
    },
    {
      "cell_type": "code",
      "metadata": {
        "id": "Kz9gGgsArM4W"
      },
      "source": [
        "checkpoint.restore(tf.train.latest_checkpoint(checkpoint_dir))"
      ],
      "execution_count": null,
      "outputs": []
    },
    {
      "cell_type": "code",
      "metadata": {
        "id": "K_jRrDU-rTJO"
      },
      "source": [
        "# Display a single image using the epoch number\r\n",
        "def display_image(epoch_no):\r\n",
        "  return PIL.Image.open('image_at_epoch_{:04d}.png'.format(epoch_no))"
      ],
      "execution_count": null,
      "outputs": []
    },
    {
      "cell_type": "code",
      "metadata": {
        "id": "02JaaPl3rVau"
      },
      "source": [
        "display_image(EPOCHS)"
      ],
      "execution_count": null,
      "outputs": []
    },
    {
      "cell_type": "code",
      "metadata": {
        "id": "QnvsWg5KrdqW"
      },
      "source": [
        "anim_file = 'dcgan.gif'\r\n",
        "\r\n",
        "with imageio.get_writer(anim_file, mode='I') as writer:\r\n",
        "  filenames = glob.glob('image*.png')\r\n",
        "  filenames = sorted(filenames)\r\n",
        "  for filename in filenames:\r\n",
        "    image = imageio.imread(filename)\r\n",
        "    writer.append_data(image)\r\n",
        "  image = imageio.imread(filename)\r\n",
        "  writer.append_data(image)"
      ],
      "execution_count": null,
      "outputs": []
    },
    {
      "cell_type": "code",
      "metadata": {
        "id": "tDnayTatrh9e"
      },
      "source": [
        "import tensorflow_docs.vis.embed as embed\r\n",
        "embed.embed_file(anim_file)"
      ],
      "execution_count": null,
      "outputs": []
    }
  ]
}